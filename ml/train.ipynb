{
 "cells": [
  {
   "cell_type": "code",
   "execution_count": null,
   "metadata": {},
   "outputs": [],
   "source": [
    "import torch\n",
    "import torch.nn as nn\n",
    "from torch.utils.data import TensorDataset, DataLoader, dataset\n",
    "import numpy as np\n",
    "from ldm import LDM\n",
    "from ddpm import DDPM\n",
    "from tqdm import tqdm\n",
    "import wandb\n",
    "import matplotlib.pyplot as plt\n",
    "from pprint import pprint\n",
    "from config import conv_map, device"
   ]
  },
  {
   "cell_type": "markdown",
   "metadata": {},
   "source": [
    "### Training arguments"
   ]
  },
  {
   "cell_type": "code",
   "execution_count": null,
   "metadata": {},
   "outputs": [],
   "source": [
    "print(f\"Executing train.ipynb on {device}...\\n-----------------------------\")\n",
    "\n",
    "args = {\n",
    "    \"load_model\": True,\n",
    "    \"train_vae\": False,\n",
    "    \"train_ddpm\": True,\n",
    "    \"use_wandb\": True,\n",
    "    \"vae_epochs\": 500,\n",
    "    \"ddpm_epochs\": 2500,\n",
    "    \"vae_batch_size\": 8,\n",
    "    \"ddpm_batch_size\": 16,\n",
    "    \"vae_lr\": 4e-4,\n",
    "    \"ddpm_lr\": 4e-4,\n",
    "    \"vae_weight_decay\": 1e-5,\n",
    "    \"ddpm_weight_decay\": 1e-5,\n",
    "    \"vae_beta\": 1e-2,\n",
    "    \"gradient_clip\": True,\n",
    "    \"gradient_clip_val\": 1.0,\n",
    "    \"T\": 1024,\n",
    "    \"num_glyphs\": 26,\n",
    "    \"label_dim\": 128,\n",
    "    \"loss_fn\": nn.MSELoss(),\n",
    "    \"precision\": torch.float32,\n",
    "    \"rescale_latent\": True,\n",
    "}\n",
    "\n",
    "print(\"Training hyperparameters:\")\n",
    "pprint(args)"
   ]
  },
  {
   "cell_type": "markdown",
   "metadata": {},
   "source": [
    "### Create model"
   ]
  },
  {
   "cell_type": "code",
   "execution_count": null,
   "metadata": {},
   "outputs": [],
   "source": [
    "if args['load_model']:\n",
    "    model = torch.load(f'models/ldm-35851allchars-500_500_64_64.pt-001-500-0.pkl', map_location=device).to(device)\n",
    "    if args['train_ddpm']:\n",
    "        model.ddpm = DDPM(diffusion_depth=args['T'], latent_shape=model.enc_dec.latent_shape, label_dim=args['label_dim'], conv_map=conv_map).to(device)\n",
    "else:\n",
    "    model = LDM(diffusion_depth=args['T'], feature_channels=args['num_glyphs'], label_dim=args['label_dim'], conv_map=conv_map).to(device)"
   ]
  },
  {
   "cell_type": "markdown",
   "metadata": {},
   "source": [
    "### Training tools"
   ]
  },
  {
   "cell_type": "code",
   "execution_count": null,
   "metadata": {},
   "outputs": [],
   "source": [
    "mse_loss = args['loss_fn']\n",
    "vae_optimizer = torch.optim.AdamW(model.enc_dec.parameters(), lr=args['vae_lr'])\n",
    "ddpm_optimizer = torch.optim.AdamW(model.ddpm.parameters(), lr=args['ddpm_lr'])\n",
    "\n",
    "dataset_name = \"35851allchars-500_500_64_64.pt\"\n",
    "train_test_split = int(0.9 * torch.load(f'./{dataset_name}', mmap=True).shape[0])\n",
    "im_dataset = torch.load(f'./{dataset_name}', mmap=True)[:train_test_split,:args['num_glyphs'],:,:]\n",
    "im_dataset_test = torch.load(f'./{dataset_name}', mmap=True)[train_test_split:,:args['num_glyphs'],:,:]\n",
    "vae_train_tensor_dataset = TensorDataset(im_dataset, torch.zeros(im_dataset.shape[0], 1))\n",
    "vae_train_dataloader = DataLoader(vae_train_tensor_dataset, batch_size=args['vae_batch_size'], shuffle=True)\n",
    "vae_test_tensor_dataset = TensorDataset(im_dataset_test, torch.zeros(im_dataset_test.shape[0], 1))\n",
    "vae_test_dataloader = DataLoader(vae_test_tensor_dataset, batch_size=args['vae_batch_size'], shuffle=True)\n",
    "ddpm_train_tensor_dataset = TensorDataset(im_dataset, torch.zeros(im_dataset.shape[0], 1))\n",
    "ddpm_train_dataloader = DataLoader(ddpm_train_tensor_dataset, batch_size=args['ddpm_batch_size'], shuffle=True)"
   ]
  },
  {
   "cell_type": "code",
   "execution_count": null,
   "metadata": {},
   "outputs": [],
   "source": [
    "if args['use_wandb']:\n",
    "    wandb.init(\n",
    "        project=\"project-typeface\",\n",
    "        config={\n",
    "            \"model_type\": \"Diffusion\",\n",
    "            **args\n",
    "        }\n",
    "    )"
   ]
  },
  {
   "cell_type": "code",
   "execution_count": null,
   "metadata": {},
   "outputs": [],
   "source": [
    "@torch.no_grad()\n",
    "def sampling_traj(ldm, z_T, T, times, y, num_samples):\n",
    "    i = T\n",
    "    prior_eval = ldm.ddpm.training\n",
    "    ldm.ddpm.eval()\n",
    "    x_Ts = [ldm.enc_dec.decode(ldm.denormalize_z(z_T))]\n",
    "    while i >= 1:\n",
    "        z_T = ldm.ddpm.denoise(z_T, times[i:i+1], y)\n",
    "        i -= 1\n",
    "        if i % (T // (num_samples - 1)) == 0:\n",
    "            x_Ts.append(ldm.enc_dec.decode(ldm.denormalize_z(z_T)))\n",
    "    ldm.ddpm.train(prior_eval)\n",
    "    return x_Ts, y\n",
    "\n",
    "def show_img_from_tensor(x_T, scale=True):\n",
    "    new_img = (x_T.cpu().detach().numpy())\n",
    "    if scale:\n",
    "        new_img -= new_img.min()\n",
    "        new_img /= (new_img.max() - new_img.min())\n",
    "    if new_img.shape[0] == 1:\n",
    "        plt.imshow(new_img[0], cmap='gray')\n",
    "        # plt.savefig(\"test.png\")\n",
    "        # plt.show()\n",
    "    else:\n",
    "        plt.imshow(np.moveaxis(new_img, 0, 2))\n",
    "        # plt.savefig(\"test.png\")\n",
    "        # plt.show()"
   ]
  },
  {
   "cell_type": "markdown",
   "metadata": {},
   "source": [
    "### Useful Loss Functions"
   ]
  },
  {
   "cell_type": "code",
   "execution_count": null,
   "metadata": {},
   "outputs": [],
   "source": [
    "def recon_loss(a, b):\n",
    "    return torch.pow((a - b), 2).sum()\n",
    "\n",
    "def kl_loss(mu, logvar):\n",
    "    return 0.5 * ((torch.pow(mu, 2) + logvar.exp() - logvar - 1)).sum()"
   ]
  },
  {
   "cell_type": "markdown",
   "metadata": {},
   "source": [
    "### Pretrain VAE"
   ]
  },
  {
   "cell_type": "code",
   "execution_count": null,
   "metadata": {},
   "outputs": [],
   "source": [
    "if args[\"train_vae\"]:\n",
    "    model.enc_dec.train()\n",
    "    model.ddpm.eval()\n",
    "    for epoch in range(args['vae_epochs']):\n",
    "        total_loss = 0\n",
    "        test_loss = 0\n",
    "        model.enc_dec.train()\n",
    "        for inp, label in tqdm(vae_train_dataloader):\n",
    "            vae_optimizer.zero_grad()\n",
    "            inp = inp.to(device, dtype=torch.uint8) / 127.5 - 1.0\n",
    "            inp_hat, mu, logvar = model.enc_dec(inp)\n",
    "            loss = (recon_loss(inp_hat, inp) + args['vae_beta'] * kl_loss(mu, logvar)) / inp.shape[0]\n",
    "            total_loss += loss.item() * inp.shape[0]\n",
    "            loss.backward()\n",
    "            if args['gradient_clip']:\n",
    "                torch.nn.utils.clip_grad_norm_(model.parameters(), args['gradient_clip_val'])\n",
    "            vae_optimizer.step()\n",
    "            torch.cuda.empty_cache()\n",
    "        \n",
    "        model.enc_dec.eval()\n",
    "        with torch.no_grad():\n",
    "            for inp, label in tqdm(vae_test_dataloader):\n",
    "                inp = inp.to(device, dtype=torch.uint8) / 127.5 - 1.0\n",
    "                inp_hat, mu, logvar = model.enc_dec(inp)\n",
    "                loss = (recon_loss(inp_hat, inp) + args['vae_beta'] * kl_loss(mu, logvar)) / inp.shape[0]\n",
    "                test_loss += loss.item() * inp.shape[0]\n",
    "                torch.cuda.empty_cache()\n",
    "        total_loss /= len(vae_train_dataloader.dataset)\n",
    "        test_loss /= len(vae_test_dataloader.dataset)\n",
    "\n",
    "        test_idx = np.random.randint(0, len(vae_test_dataloader.dataset))\n",
    "        inp, _ = vae_test_dataloader.dataset[test_idx:test_idx+1]\n",
    "        inp = inp.to(device, dtype=torch.uint8) / 127.5 - 1.0\n",
    "        sample = model.enc_dec(inp)[0]\n",
    "        two_five_five_truth = ((inp[0,:1] + 1.0) * 127.5).clamp(0.0, 255.0).round()\n",
    "        two_five_five_sample = ((sample[0,:1] + 1.0) * 127.5).clamp(0.0, 255.0).round()\n",
    "\n",
    "        wandb.log({\n",
    "            \"vae_train_loss\": total_loss,\n",
    "            \"vae_test_loss\": test_loss,\n",
    "            \"vae_truth\": wandb.Image(two_five_five_truth, caption=f\"epoch{epoch+1}.png\"),\n",
    "            \"vae_recon\": wandb.Image(two_five_five_sample, caption=f\"epoch{epoch+1}.png\"),\n",
    "        })\n",
    "        print(f\"Epoch {epoch+1}/{args['vae_epochs']}: {total_loss=}, {test_loss=}\")\n",
    "    torch.save(model, f'models/ldm-{dataset_name}-{\"\".join(str(args[\"vae_beta\"]).split(\".\"))}-{args[\"vae_epochs\"]}-0.pkl')"
   ]
  },
  {
   "cell_type": "code",
   "execution_count": null,
   "metadata": {},
   "outputs": [],
   "source": [
    "if args['rescale_latent']:\n",
    "    print(\"rescaling latent space\")\n",
    "    z = torch.zeros(vae_train_tensor_dataset.tensors[0].shape[0], model.enc_dec.latent_shape[0], model.enc_dec.latent_shape[1], model.enc_dec.latent_shape[2], dtype=args['precision'])\n",
    "    c = 0\n",
    "    for inp, y in tqdm(vae_train_dataloader):\n",
    "        inp = inp.to(device, dtype=torch.uint8) / 127.5 - 1.0\n",
    "        z[c:c+inp.shape[0]] = (model.enc_dec.encode(inp.to(device))).cpu().detach()\n",
    "        c += inp.shape[0]\n",
    "        torch.cuda.empty_cache()\n",
    "\n",
    "    min_z = torch.Tensor([[[z[:,i,j,k].min() for k in range(model.enc_dec.latent_shape[2])] for j in range(model.enc_dec.latent_shape[1])] for i in range(model.enc_dec.latent_shape[0])]).to(device)\n",
    "    max_z = torch.Tensor([[[z[:,i,j,k].max() for k in range(model.enc_dec.latent_shape[2])] for j in range(model.enc_dec.latent_shape[1])] for i in range(model.enc_dec.latent_shape[0])]).to(device)\n",
    "    model.set_latent_range(min_z.min(), max_z.max())\n",
    "    print(min_z.mean(), max_z.mean())\n",
    "else:\n",
    "    model.set_latent_range(-torch.ones(model.enc_dec.latent_shape).to(device), torch.ones(model.enc_dec.latent_shape).to(device))"
   ]
  },
  {
   "cell_type": "markdown",
   "metadata": {},
   "source": [
    "### Train DDPM"
   ]
  },
  {
   "cell_type": "code",
   "execution_count": null,
   "metadata": {},
   "outputs": [],
   "source": [
    "model.enc_dec.eval()\n",
    "if args['train_ddpm']:\n",
    "    for epoch in range(args['ddpm_epochs']):\n",
    "        total_loss = 0\n",
    "        model.ddpm.train()\n",
    "        for inp, label in tqdm(ddpm_train_dataloader):\n",
    "            ddpm_optimizer.zero_grad()\n",
    "            \n",
    "            times_i = torch.randint(1, args['T']+1, (inp.shape[0],)).to(device)\n",
    "            inp = inp.to(device, dtype=torch.uint8) / 127.5 - 1.0\n",
    "            label = label.to(device)\n",
    "            if np.random.random() < 0.1:\n",
    "                label = None\n",
    "            label = None\n",
    "\n",
    "            eps, pred_eps = model(inp, times_i, label)\n",
    "            loss = mse_loss(pred_eps, eps)\n",
    "            total_loss += loss.item() * inp.shape[0]\n",
    "            loss.backward()\n",
    "            ddpm_optimizer.step()\n",
    "\n",
    "            torch.cuda.empty_cache()\n",
    "        total_loss /= len(ddpm_train_dataloader.dataset)\n",
    "        \n",
    "        if True:\n",
    "            num_images = 9\n",
    "            # plt.show()\n",
    "            shape = z[0:1,:,:,:].shape\n",
    "            noise = model.enc_dec.reparameterize(torch.zeros(shape).to(device), torch.ones(shape).to(device))[0]\n",
    "            times = torch.IntTensor(np.linspace(0, args['T'], args['T']+1, dtype=int)).to(device)\n",
    "            condition = None#torch.Tensor([[np.random.randint(1)]]).to(device)\n",
    "            traj, cond = sampling_traj(model, noise, args['T'], times, condition, num_images)\n",
    "            for i in range(num_images):\n",
    "                plt.subplot(1, num_images+1, i+1)\n",
    "                show_img_from_tensor(traj[i][0,0:1])\n",
    "            plt.show()\n",
    "            log_images = {\"train_loss\": total_loss}\n",
    "            for i in range(args['num_glyphs']):\n",
    "                two_five_five = ((traj[-1][0,i:i+1] + 1.0) * 127.5).clamp(0.0, 255.0).round()\n",
    "                log_images[f\"images_{i}\"] = wandb.Image(two_five_five, caption=f\"epoch{epoch+1}.png\")\n",
    "\n",
    "            if args['use_wandb']:\n",
    "                wandb.log(log_images)\n",
    "\n",
    "        if cond:\n",
    "            print(f\"Condition: {cond.cpu().detach().numpy()[0]}\\n{total_loss=}\\nEpoch {epoch+1}/{args['ddpm_epochs']} finished.\")\n",
    "        else:\n",
    "            print(f\"{total_loss=}\\nEpoch {epoch+1}/{args['ddpm_epochs']} finished.\")\n",
    "\n",
    "        if (epoch+1) % 100 == 0:\n",
    "            torch.save(model, f'models/ldm-{dataset_name}-{\"\".join(str(args[\"vae_beta\"]).split(\".\"))}-{args[\"vae_epochs\"]}-{epoch+1}.pkl')\n",
    "\n",
    "    torch.save(model, f'models/ldm-{dataset_name}-{\"\".join(str(args[\"vae_beta\"]).split(\".\"))}-{args[\"vae_epochs\"]}-{args[\"ddpm_epochs\"]}.pkl')"
   ]
  }
 ],
 "metadata": {
  "language_info": {
   "name": "python"
  }
 },
 "nbformat": 4,
 "nbformat_minor": 2
}
